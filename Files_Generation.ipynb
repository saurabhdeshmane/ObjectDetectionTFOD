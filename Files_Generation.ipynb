{
 "cells": [
  {
   "cell_type": "code",
   "execution_count": 1,
   "id": "4a713832",
   "metadata": {},
   "outputs": [],
   "source": [
    "import os\n",
    "import shutil\n",
    "from xml.etree import ElementTree as ET"
   ]
  },
  {
   "cell_type": "code",
   "execution_count": 2,
   "id": "e3a7aac7",
   "metadata": {},
   "outputs": [],
   "source": [
    "# Define paths\n",
    "images_dir = \"final_images/\"\n",
    "xml_dir = \"final_xml/\"\n",
    "safe_dir = \"Safe_images/\"\n",
    "unsafe_dir = \"Unsafe_images/\""
   ]
  },
  {
   "cell_type": "code",
   "execution_count": 5,
   "id": "3444767f",
   "metadata": {},
   "outputs": [
    {
     "name": "stdout",
     "output_type": "stream",
     "text": [
      "Number of files with 'unsafe' object:  177\n",
      "Number of files with 'safe' object:  62\n"
     ]
    }
   ],
   "source": [
    "unsafe_count = 0\n",
    "safe_count = 0\n",
    "\n",
    "for xml_file in os.listdir(xml_dir):\n",
    "    if not xml_file.endswith('.xml'):\n",
    "        continue\n",
    "    xml_path = os.path.join(xml_dir, xml_file)\n",
    "    tree = ET.parse(xml_path)\n",
    "    root = tree.getroot()\n",
    "    for obj in root.findall('object'):\n",
    "        name = obj.find('name').text\n",
    "        if name == 'unsafe':\n",
    "            unsafe_count += 1\n",
    "        elif name == 'safe':\n",
    "            safe_count += 1\n",
    "\n",
    "print(\"Number of files with 'unsafe' object: \", unsafe_count)\n",
    "print(\"Number of files with 'safe' object: \", safe_count)\n"
   ]
  },
  {
   "cell_type": "code",
   "execution_count": 4,
   "id": "08322f82",
   "metadata": {},
   "outputs": [],
   "source": [
    "# Loop through xml files\n",
    "for xml_file in os.listdir(xml_dir):\n",
    "    if xml_file.endswith(\".xml\"):\n",
    "        # Parse xml file\n",
    "        xml_path = os.path.join(xml_dir, xml_file)\n",
    "        tree = ET.parse(xml_path)\n",
    "        root = tree.getroot()\n",
    "        \n",
    "        # Check if image is safe or unsafe\n",
    "        is_safe = False\n",
    "        for obj in root.findall(\".//object\"):\n",
    "            name = obj.find(\"name\").text\n",
    "            if name == \"unsafe\":\n",
    "                is_safe = False\n",
    "                break\n",
    "            elif name == \"safe\":\n",
    "                is_safe = True\n",
    "        \n",
    "        # Copy image to appropriate directory\n",
    "        if is_safe:\n",
    "            src_path = os.path.join(images_dir, xml_file[:-4] + \".jpg\")\n",
    "            dst_path = os.path.join(safe_dir, xml_file[:-4] + \".jpg\")\n",
    "            shutil.copy(src_path, dst_path)\n",
    "        else:\n",
    "            src_path = os.path.join(images_dir, xml_file[:-4] + \".jpg\")\n",
    "            dst_path = os.path.join(unsafe_dir, xml_file[:-4] + \".jpg\")\n",
    "            shutil.copy(src_path, dst_path)"
   ]
  },
  {
   "cell_type": "code",
   "execution_count": null,
   "id": "3490256b",
   "metadata": {},
   "outputs": [],
   "source": []
  }
 ],
 "metadata": {
  "kernelspec": {
   "display_name": "Python 3 (ipykernel)",
   "language": "python",
   "name": "python3"
  },
  "language_info": {
   "codemirror_mode": {
    "name": "ipython",
    "version": 3
   },
   "file_extension": ".py",
   "mimetype": "text/x-python",
   "name": "python",
   "nbconvert_exporter": "python",
   "pygments_lexer": "ipython3",
   "version": "3.9.7"
  }
 },
 "nbformat": 4,
 "nbformat_minor": 5
}
